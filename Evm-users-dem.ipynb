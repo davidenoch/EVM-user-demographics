{
 "cells": [
  {
   "cell_type": "code",
   "execution_count": 8,
   "id": "3c8856cc-af82-4995-8aa3-537b5e62d5ca",
   "metadata": {},
   "outputs": [],
   "source": [
    "from  flipside import Flipside\n",
    "import pandas as pd\n"
   ]
  },
  {
   "cell_type": "code",
   "execution_count": 10,
   "id": "f6aa3321-233c-4d9e-9439-c773d6e4127c",
   "metadata": {},
   "outputs": [],
   "source": [
    "def load_sql(filepath):\n",
    "    with open (filepath, 'r') as file:\n",
    "        return file.read()\n",
    "\n",
    "sql = load_sql('Scripts/SQL/test.sql')\n"
   ]
  },
  {
   "cell_type": "code",
   "execution_count": 11,
   "id": "814c3903-4aef-462b-b76d-1bbb09e8cda7",
   "metadata": {},
   "outputs": [
    {
     "data": {
      "text/html": [
       "<div>\n",
       "<style scoped>\n",
       "    .dataframe tbody tr th:only-of-type {\n",
       "        vertical-align: middle;\n",
       "    }\n",
       "\n",
       "    .dataframe tbody tr th {\n",
       "        vertical-align: top;\n",
       "    }\n",
       "\n",
       "    .dataframe thead th {\n",
       "        text-align: right;\n",
       "    }\n",
       "</style>\n",
       "<table border=\"1\" class=\"dataframe\">\n",
       "  <thead>\n",
       "    <tr style=\"text-align: right;\">\n",
       "      <th></th>\n",
       "      <th>hour</th>\n",
       "      <th>tx_count</th>\n",
       "      <th>__row_index</th>\n",
       "    </tr>\n",
       "  </thead>\n",
       "  <tbody>\n",
       "    <tr>\n",
       "      <th>0</th>\n",
       "      <td>2024-07-30T08:00:00.000Z</td>\n",
       "      <td>45837</td>\n",
       "      <td>0</td>\n",
       "    </tr>\n",
       "    <tr>\n",
       "      <th>1</th>\n",
       "      <td>2024-07-25T07:00:00.000Z</td>\n",
       "      <td>45271</td>\n",
       "      <td>1</td>\n",
       "    </tr>\n",
       "    <tr>\n",
       "      <th>2</th>\n",
       "      <td>2024-07-30T17:00:00.000Z</td>\n",
       "      <td>50736</td>\n",
       "      <td>2</td>\n",
       "    </tr>\n",
       "    <tr>\n",
       "      <th>3</th>\n",
       "      <td>2024-07-25T10:00:00.000Z</td>\n",
       "      <td>48281</td>\n",
       "      <td>3</td>\n",
       "    </tr>\n",
       "    <tr>\n",
       "      <th>4</th>\n",
       "      <td>2024-07-25T16:00:00.000Z</td>\n",
       "      <td>50874</td>\n",
       "      <td>4</td>\n",
       "    </tr>\n",
       "  </tbody>\n",
       "</table>\n",
       "</div>"
      ],
      "text/plain": [
       "                       hour  tx_count  __row_index\n",
       "0  2024-07-30T08:00:00.000Z     45837            0\n",
       "1  2024-07-25T07:00:00.000Z     45271            1\n",
       "2  2024-07-30T17:00:00.000Z     50736            2\n",
       "3  2024-07-25T10:00:00.000Z     48281            3\n",
       "4  2024-07-25T16:00:00.000Z     50874            4"
      ]
     },
     "execution_count": 11,
     "metadata": {},
     "output_type": "execute_result"
    }
   ],
   "source": [
    "flipside = Flipside(\"025c9fa7-616d-40d2-8756-701e6cf43f82\", \"https://api-v2.flipsidecrypto.xyz\")\n",
    "sql = load_sql('Scripts/SQL/test.sql')\n",
    "query_result_set = flipside.query(sql)\n",
    "query_result_set.records\n",
    "df = pd.DataFrame(query_result_set.records)\n",
    "df.head()\n"
   ]
  },
  {
   "cell_type": "code",
   "execution_count": null,
   "id": "784862d3-33bd-402d-97df-0c4640835b87",
   "metadata": {},
   "outputs": [],
   "source": []
  }
 ],
 "metadata": {
  "kernelspec": {
   "display_name": "evm-dem",
   "language": "python",
   "name": "evm-dem"
  },
  "language_info": {
   "codemirror_mode": {
    "name": "ipython",
    "version": 3
   },
   "file_extension": ".py",
   "mimetype": "text/x-python",
   "name": "python",
   "nbconvert_exporter": "python",
   "pygments_lexer": "ipython3",
   "version": "3.9.6"
  },
  "widgets": {
   "application/vnd.jupyter.widget-state+json": {
    "state": {},
    "version_major": 2,
    "version_minor": 0
   }
  }
 },
 "nbformat": 4,
 "nbformat_minor": 5
}
